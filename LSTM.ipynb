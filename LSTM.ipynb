{
 "cells": [
  {
   "cell_type": "markdown",
   "metadata": {},
   "source": [
    "## Imports"
   ]
  },
  {
   "cell_type": "code",
   "execution_count": 5,
   "metadata": {
    "tags": [
     "imports"
    ]
   },
   "outputs": [
    {
     "name": "stdout",
     "output_type": "stream",
     "text": [
      "c:\\Users\\brunO\\AreadeTrabalho\\Prog\\Python\\LSTM\\rust_funcs\\.env\\Lib\\site-packages\\rust_funcs\n"
     ]
    }
   ],
   "source": [
    "## resolver problema no caminho do maturin do pyo3, que faz a biblioteca em rust ser acessível em python\n",
    "import sys, os\n",
    "for cam in sys.path:\n",
    "    if cam.find('LSTM') != -1:\n",
    "        caminho = os.path.join(cam, 'rust_funcs', '.env', 'Lib', 'site-packages', 'rust_funcs')\n",
    "        print(caminho)\n",
    "        break\n",
    "sys.path.append(caminho)\n",
    "import rust_funcs\n",
    "sys.path.remove(caminho)\n",
    "del caminho\n",
    "\n",
    "import numpy as np"
   ]
  },
  {
   "cell_type": "code",
   "execution_count": 6,
   "metadata": {},
   "outputs": [],
   "source": [
    "def relu(x):\n",
    "    return (x > 0)*x\n",
    "\n",
    "def tanh(x):\n",
    "    return np.tanh(x)\n",
    "\n",
    "def sigmoid(x):\n",
    "    return (tanh(x/2)+1)/2\n",
    "\n",
    "def logloss(y, yhat):\n",
    "    return rust_funcs.logloss(y, yhat)\n",
    "\n",
    "def crossentropy(y,yhat):\n",
    "    return rust_funcs.crossentropy(y,yhat)\n",
    "\n",
    "def quaderror(x, y, f = None):\n",
    "    if f:\n",
    "        return np.dot(f(x) - y, f(x) - y)/(2*len(y))\n",
    "    return rust_funcs.quaderror(x,y)"
   ]
  },
  {
   "cell_type": "code",
   "execution_count": 33,
   "metadata": {},
   "outputs": [
    {
     "name": "stdout",
     "output_type": "stream",
     "text": [
      "829 ns ± 120 ns per loop (mean ± std. dev. of 7 runs, 1,000,000 loops each)\n",
      "718 ns ± 39.1 ns per loop (mean ± std. dev. of 7 runs, 1,000,000 loops each)\n",
      "2.42 µs ± 235 ns per loop (mean ± std. dev. of 7 runs, 100,000 loops each)\n",
      "2.55 µs ± 464 ns per loop (mean ± std. dev. of 7 runs, 100,000 loops each)\n",
      "17.8 µs ± 749 ns per loop (mean ± std. dev. of 7 runs, 100,000 loops each)\n",
      "16.1 µs ± 320 ns per loop (mean ± std. dev. of 7 runs, 100,000 loops each)\n",
      "185 µs ± 24.7 µs per loop (mean ± std. dev. of 7 runs, 10,000 loops each)\n",
      "229 µs ± 52.8 µs per loop (mean ± std. dev. of 7 runs, 1,000 loops each)\n",
      "1.59 ms ± 32.8 µs per loop (mean ± std. dev. of 7 runs, 1,000 loops each)\n",
      "1.92 ms ± 447 µs per loop (mean ± std. dev. of 7 runs, 1,000 loops each)\n",
      "16.6 ms ± 901 µs per loop (mean ± std. dev. of 7 runs, 100 loops each)\n",
      "16.5 ms ± 571 µs per loop (mean ± std. dev. of 7 runs, 100 loops each)\n"
     ]
    }
   ],
   "source": [
    "## teste de tempo entre funções (principalmente para o Rust)\n",
    "\n",
    "def fazer_fig(listas, listas_std, lista_f):\n",
    "    import seaborn as sns, matplotlib.pyplot as plt\n",
    "    fig, axe = plt.subplots(figsize=(14,7), facecolor='lightgray')\n",
    "    axe.set_facecolor('lightgray')\n",
    "    for i in range(len(listas)):\n",
    "        sns.lineplot(data=listas[i], ax=axe, linewidth=0.4)\n",
    "    for i in range(len(listas)):\n",
    "        lower_bound = [M_new - Sigma for M_new, Sigma in zip(listas[i], listas_std[i])]\n",
    "        upper_bound = [M_new + Sigma for M_new, Sigma in zip(listas[i], listas_std[i])]\n",
    "        plt.fill_between(list(range(7)), lower_bound, upper_bound, alpha=.3, color='red')\n",
    "    plt.yscale('log')\n",
    "    axe.legend([lista_f[i//2].__name__ if not i%2 else lista_f[i//2].__name__+'±std' for i in range(0,2*len(lista_f))])\n",
    "    axe.set_xlabel('Ordem de grandeza do teste')\n",
    "    axe.set_ylabel('(Log da) Duração do teste')\n",
    "    axe.set_xticklabels(list(range(0,8)))\n",
    "    plt.show()\n",
    "\n",
    "def single_test(n, f, lista_f, y, yhat):\n",
    "    assert(np.all(np.isclose([[f(y, yhat) for f in lista_f]], lista_f[0](y,yhat))))\n",
    "    number = %timeit -o f(y, yhat)\n",
    "    return number\n",
    "\n",
    "def testar(lista_f):\n",
    "    k = len(lista_f)\n",
    "    listas = [[] for i in range(k)]\n",
    "    for n in range(1, 8):\n",
    "        y = (np.random.random(10**n-1)+0.5)//1\n",
    "        yhat = np.linspace(0.05,0.95, 10**n-1)\n",
    "        for i in range(k):\n",
    "            listas[i].append(single_test(n, lista_f[i], lista_f, y, yhat))\n",
    "    listas_std = [[] for i in range(k)]\n",
    "    for j in range(len(listas[0])):\n",
    "        for i in range(k):\n",
    "            listas_std[i].append(listas[i][j].stdev)\n",
    "            listas[i][j] = listas[i][j].average \n",
    "    fazer_fig(listas, listas_std, lista_f)\n",
    "    \n",
    "testar([rust_funcs.crossentropy, rust_funcs.crossentropy_teste])\n",
    "   "
   ]
  },
  {
   "cell_type": "code",
   "execution_count": 16,
   "metadata": {},
   "outputs": [
    {
     "ename": "NameError",
     "evalue": "name 'listas' is not defined",
     "output_type": "error",
     "traceback": [
      "\u001b[1;31m---------------------------------------------------------------------------\u001b[0m",
      "\u001b[1;31mNameError\u001b[0m                                 Traceback (most recent call last)",
      "Cell \u001b[1;32mIn[16], line 1\u001b[0m\n\u001b[1;32m----> 1\u001b[0m \u001b[43mlistas\u001b[49m\n",
      "\u001b[1;31mNameError\u001b[0m: name 'listas' is not defined"
     ]
    }
   ],
   "source": []
  }
 ],
 "metadata": {
  "kernelspec": {
   "display_name": "Python 3",
   "language": "python",
   "name": "python3"
  },
  "language_info": {
   "codemirror_mode": {
    "name": "ipython",
    "version": 3
   },
   "file_extension": ".py",
   "mimetype": "text/x-python",
   "name": "python",
   "nbconvert_exporter": "python",
   "pygments_lexer": "ipython3",
   "version": "3.12.0"
  }
 },
 "nbformat": 4,
 "nbformat_minor": 2
}
